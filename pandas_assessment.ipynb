{
 "cells": [
  {
   "cell_type": "markdown",
   "metadata": {},
   "source": [
    "# Python/Pandas Assessment\n",
    "\n",
    "### Setup\n",
    "- Clone the repository containing this file to your `~/codeup-data-science/` folder.\n",
    "- You'll notice that all files are gitignored. This is done to ensure that your work _does not_ get pushed to GitHub. Sharing test questions/answers is an academic integrity issue, so we need to avoid that isssue entirely. Avoid adding this repo to GitHub.\n",
    "- Upload your completed notebook to the appropriate Google Classroom assignment.\n",
    "\n",
    "### Orientation\n",
    "- There are 10 exercises on this assessment worth 10 points each.\n",
    "- Credit is given for programmatic solutions only; your code shows your work. Since you see the answer in the unit test code, if your function has `return 44`, for example, that's not going to earn credit.\n",
    "- Your Python/pandas code should run without errors\n",
    "- After each problem prompt, there is a cell to write your code followed by another cell with a unit test\n",
    "\n",
    "### Troubleshooting\n",
    "If you need a fresh start, go to Kernel and then \"Restart and Clear Output\" in this Jupyter Notebook"
   ]
  },
  {
   "cell_type": "code",
   "execution_count": 2,
   "metadata": {},
   "outputs": [],
   "source": [
    "# Required Imports and data acquisition\n",
    "import pandas as pd\n",
    "from pydataset import data\n",
    "\n",
    "df = data(\"tips\")\n"
   ]
  },
  {
   "cell_type": "markdown",
   "metadata": {},
   "source": [
    "####  EXAMPLE: Write a function named `exercise0`\n",
    "- This function should accept a dataframe as its input argument\n",
    "- Notice that the example function is returning the appropriate, programmatic code to obtain the solution\n",
    "- The `assert` line checks the exercise solution code to ensure correctness"
   ]
  },
  {
   "cell_type": "code",
   "execution_count": 2,
   "metadata": {},
   "outputs": [
    {
     "name": "stdout",
     "output_type": "stream",
     "text": [
      "Exercise 0 example exercise is complete.\n"
     ]
    }
   ],
   "source": [
    "# This example function is solved below:\n",
    "def exercise0(df):\n",
    "    return len(df)\n",
    "\n",
    "assert exercise0(df) == 244\n",
    "print(\"Exercise 0 example exercise is complete.\")"
   ]
  },
  {
   "cell_type": "markdown",
   "metadata": {},
   "source": [
    "####  Write a function named `exercise1`\n",
    "- Use the cell below to write your code\n",
    "- This function should accept a dataframe as its input argument\n",
    "- This function should return the highest `total_bill` value from the tips dataframe"
   ]
  },
  {
   "cell_type": "code",
   "execution_count": 10,
   "metadata": {},
   "outputs": [],
   "source": [
    "# Write your code for the exercise1 function here\n",
    "def exercise1(x):\n",
    "    return x.total_bill.max()\n",
    "\n"
   ]
  },
  {
   "cell_type": "code",
   "execution_count": 4,
   "metadata": {},
   "outputs": [
    {
     "name": "stdout",
     "output_type": "stream",
     "text": [
      "Exercise 1 is complete\n"
     ]
    }
   ],
   "source": [
    "assert exercise1(df) == 50.81\n",
    "print(\"Exercise 1 is complete\") "
   ]
  },
  {
   "cell_type": "markdown",
   "metadata": {},
   "source": [
    "####  Write a function named `exercise2`\n",
    "- Use the cell below to write your code\n",
    "- This function should return the number of different days in the `day` column.\n",
    "- This function should accept a dataframe as its input argument."
   ]
  },
  {
   "cell_type": "code",
   "execution_count": 5,
   "metadata": {},
   "outputs": [],
   "source": [
    "# Write your code for the exercise2 function definition here\n",
    "def exercise2(x):\n",
    "    return x.day.nunique()\n",
    "\n"
   ]
  },
  {
   "cell_type": "code",
   "execution_count": 6,
   "metadata": {},
   "outputs": [
    {
     "name": "stdout",
     "output_type": "stream",
     "text": [
      "Exercise 2 is complete\n"
     ]
    }
   ],
   "source": [
    "assert exercise2(df) == 4\n",
    "print(\"Exercise 2 is complete\")"
   ]
  },
  {
   "cell_type": "markdown",
   "metadata": {},
   "source": [
    "####  Write a function named `exercise3`\n",
    "- Use the cell below to write your `exercise3` function definition\n",
    "- This function should return the number of rows that represent \"Lunch\" time tables\n",
    "- A \"table\" in this dataset is a single row, representing one bill, _not_ the number of people at that table\n",
    "- This function should accept a dataframe as its input argument"
   ]
  },
  {
   "cell_type": "code",
   "execution_count": 15,
   "metadata": {},
   "outputs": [],
   "source": [
    "# Write your code for the exercise3 function here\n",
    "def exercise3(x):\n",
    "    newdf = x[x['time'] == 'Lunch']\n",
    "    return len(newdf)\n",
    "\n"
   ]
  },
  {
   "cell_type": "code",
   "execution_count": 16,
   "metadata": {},
   "outputs": [
    {
     "name": "stdout",
     "output_type": "stream",
     "text": [
      "Exercise 3 is correct\n"
     ]
    }
   ],
   "source": [
    "assert exercise3(df) == 68\n",
    "print(\"Exercise 3 is correct\")"
   ]
  },
  {
   "cell_type": "markdown",
   "metadata": {},
   "source": [
    "####  Exercise 4 is a one line of pandas code, not a function\n",
    "- Use the cell below to write the code necessary to rename the `size` column to `table_size` on the `df` variable.\n",
    "- Remember that `.size` is a reserved word in Pandas, so it helps to rename this columns that share a reserved word\n",
    "- Exercise 4 code is not a function, but should be 1 line of pandas code. \n",
    "- Be certain to update the `df` variable or mutate it accordingly, so that `df` has the new column name."
   ]
  },
  {
   "cell_type": "code",
   "execution_count": 21,
   "metadata": {},
   "outputs": [],
   "source": [
    "# Write your pandas code to rename the \"size\" column to \"table_size\"\n",
    "\n",
    "df = df.rename(columns = {'size' : 'table_size'})\n"
   ]
  },
  {
   "cell_type": "code",
   "execution_count": 22,
   "metadata": {},
   "outputs": [
    {
     "name": "stdout",
     "output_type": "stream",
     "text": [
      "Exercise 4 is complete\n"
     ]
    }
   ],
   "source": [
    "assert df.columns.tolist() == ['total_bill', 'tip', 'sex', 'smoker', 'day', 'time', 'table_size']\n",
    "print(\"Exercise 4 is complete\")"
   ]
  },
  {
   "cell_type": "markdown",
   "metadata": {},
   "source": [
    "#### Write a function named `exercise5`\n",
    "- This function should return the proportion of lunch tables out of all tables\n",
    "- A \"table\" in this dataset is a single row, representing one bill, _not_ the number of people at that table\n",
    "- You can use the full decimal or choose to round to 2 decimal places. Either answer will earn credit \n",
    "- This function should accept a dataframe as its input argument"
   ]
  },
  {
   "cell_type": "code",
   "execution_count": 23,
   "metadata": {},
   "outputs": [],
   "source": [
    "# Exercise 5 code here\n",
    "def exercise5(x):\n",
    "    lunch = x[x['time'] == 'Lunch']\n",
    "    percent = len(lunch) / len(x)\n",
    "    return percent\n",
    "\n"
   ]
  },
  {
   "cell_type": "code",
   "execution_count": 24,
   "metadata": {},
   "outputs": [
    {
     "name": "stdout",
     "output_type": "stream",
     "text": [
      "Exercise 5 is correct\n"
     ]
    }
   ],
   "source": [
    "assert exercise5(df) in [0.2786885245901639, 0.28]\n",
    "print(\"Exercise 5 is correct\")"
   ]
  },
  {
   "cell_type": "markdown",
   "metadata": {},
   "source": [
    "#### Exercise 6\n",
    "- Write a function named `exercise6`\n",
    "- This function should return the number of rows where the `total_bill` is greater than the average of all `total_bill` values.\n",
    "- This function should accept a dataframe as its input argument"
   ]
  },
  {
   "cell_type": "code",
   "execution_count": 26,
   "metadata": {},
   "outputs": [],
   "source": [
    "# Exercise 6 code here\n",
    "def exercise6(x):\n",
    "    average = x['total_bill'].mean()\n",
    "    more_than_average = x[x['total_bill'] > average]\n",
    "    return len(more_than_average)\n",
    "\n"
   ]
  },
  {
   "cell_type": "code",
   "execution_count": 27,
   "metadata": {},
   "outputs": [
    {
     "name": "stdout",
     "output_type": "stream",
     "text": [
      "Exercise 6 is correct\n"
     ]
    }
   ],
   "source": [
    "assert exercise6(df) == 99\n",
    "print(\"Exercise 6 is correct\")"
   ]
  },
  {
   "cell_type": "markdown",
   "metadata": {},
   "source": [
    "#### Exercise 7\n",
    "- Write a function named `exercise7`\n",
    "- This function should return the highest `total_bill` value for Thursday dinner tables (each row is a table).\n",
    "- This function should accept a dataframe as its input argument"
   ]
  },
  {
   "cell_type": "code",
   "execution_count": 31,
   "metadata": {},
   "outputs": [],
   "source": [
    "# Exercise 7 code here\n",
    "\n",
    "def exercise7(x):\n",
    "    dinner = x[x['time'] == 'Dinner']\n",
    "    dinner_and_thurs = dinner[dinner['day'] == 'Thur']\n",
    "    \n",
    "    return dinner_and_thurs.total_bill.max()\n",
    "    "
   ]
  },
  {
   "cell_type": "code",
   "execution_count": 32,
   "metadata": {},
   "outputs": [
    {
     "name": "stdout",
     "output_type": "stream",
     "text": [
      "Exercise 7 is correct\n"
     ]
    }
   ],
   "source": [
    "assert exercise7(df) == 18.78\n",
    "print(\"Exercise 7 is correct\")"
   ]
  },
  {
   "cell_type": "markdown",
   "metadata": {},
   "source": [
    "#### Exercise 8\n",
    "- Write a function named `exercise8`\n",
    "- This function should return the highest `total_bill` for tables on Thursday or Friday\n",
    "- This function should accept a dataframe as its input argument"
   ]
  },
  {
   "cell_type": "code",
   "execution_count": 33,
   "metadata": {},
   "outputs": [],
   "source": [
    "# Exercise 8 code here\n",
    "def exercise8(x):\n",
    "    thurs_or_fri = x[(x['day'] == 'Fri') | \\\n",
    "                        (x['day'] == 'Thur')]\n",
    "    return thurs_or_fri.total_bill.max()\n",
    "\n"
   ]
  },
  {
   "cell_type": "code",
   "execution_count": 34,
   "metadata": {},
   "outputs": [
    {
     "name": "stdout",
     "output_type": "stream",
     "text": [
      "Exercise 8 is correct\n"
     ]
    }
   ],
   "source": [
    "assert exercise8(df) == 43.11\n",
    "print(\"Exercise 8 is correct\")"
   ]
  },
  {
   "cell_type": "markdown",
   "metadata": {},
   "source": [
    "#### Exercise 9\n",
    "- Write a function named `exercise9`\n",
    "- This function should return the average `total_bill` for tables dining on a Saturday or Sunday\n",
    "- This function should accept a dataframe as its input argument"
   ]
  },
  {
   "cell_type": "code",
   "execution_count": 39,
   "metadata": {},
   "outputs": [],
   "source": [
    "# Exercise 9 code here:\n",
    "def exercise9(x):\n",
    "    sat_or_sun = x[(x['day'] == 'Sat') | \\\n",
    "                        (x['day'] == 'Sun')]\n",
    "    return sat_or_sun.total_bill.mean()\n",
    "\n"
   ]
  },
  {
   "cell_type": "code",
   "execution_count": 40,
   "metadata": {},
   "outputs": [
    {
     "name": "stdout",
     "output_type": "stream",
     "text": [
      "Exercise 9 is correct\n"
     ]
    }
   ],
   "source": [
    "assert exercise9(df) in [20.89300613496933, 20.9]\n",
    "print(\"Exercise 9 is correct\")"
   ]
  },
  {
   "cell_type": "markdown",
   "metadata": {},
   "source": [
    "#### Exercise 10\n",
    "- Write a function named `exercise10`\n",
    "- This function should take in the `prices` series as its input argument.\n",
    "- This function should clean these strings and our strings with dollar signs and commas into proper floats.\n",
    "- The `exercise10` function should return a series containing only floats"
   ]
  },
  {
   "cell_type": "code",
   "execution_count": 76,
   "metadata": {},
   "outputs": [],
   "source": [
    "prices = pd.Series([\"$1,234.56\", \"$2,345,678.99\", \"$123.45\", \"$3,333,333.99\"])"
   ]
  },
  {
   "cell_type": "code",
   "execution_count": 83,
   "metadata": {},
   "outputs": [],
   "source": [
    "# Write your function definition for exercise10 here\n",
    "def exercise10(x):\n",
    "    something = [] #this list holds only the balance keys from the dictionary\n",
    "    only_dollars = [] # this holds the values without the commas\n",
    "    convert = [] # this holds the converted values \n",
    "    for a in x:\n",
    "        a = a.strip('$')\n",
    "        something.append(a)\n",
    "    for b in something:\n",
    "        b = b.replace(\",\",\"\")\n",
    "        only_dollars.append(b)\n",
    "    for c in only_dollars:\n",
    "        c = float(c)\n",
    "        convert.append(c)\n",
    "    MySeries = pd.Series(convert)\n",
    "    return MySeries"
   ]
  },
  {
   "cell_type": "code",
   "execution_count": 84,
   "metadata": {},
   "outputs": [
    {
     "name": "stdout",
     "output_type": "stream",
     "text": [
      "Exercise 10 is correct.\n"
     ]
    }
   ],
   "source": [
    "assert exercise10(prices).values.tolist() == [1234.56, 2345678.99, 123.45, 3333333.99]\n",
    "print(\"Exercise 10 is correct.\")"
   ]
  },
  {
   "cell_type": "code",
   "execution_count": null,
   "metadata": {},
   "outputs": [],
   "source": []
  }
 ],
 "metadata": {
  "kernelspec": {
   "display_name": "Python 3 (ipykernel)",
   "language": "python",
   "name": "python3"
  },
  "language_info": {
   "codemirror_mode": {
    "name": "ipython",
    "version": 3
   },
   "file_extension": ".py",
   "mimetype": "text/x-python",
   "name": "python",
   "nbconvert_exporter": "python",
   "pygments_lexer": "ipython3",
   "version": "3.9.13"
  }
 },
 "nbformat": 4,
 "nbformat_minor": 4
}
