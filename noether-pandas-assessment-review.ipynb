{
 "cells": [
  {
   "cell_type": "markdown",
   "id": "898c9135",
   "metadata": {},
   "source": [
    "### Format\n",
    "\n",
    "- 10 questions worth 10 points each.\n",
    "\n",
    "- Do not share answers or collaborate. \n",
    "\n",
    "- Open access to resources (online, notes, documentation)\n",
    "\n"
   ]
  },
  {
   "cell_type": "markdown",
   "id": "cb3c42a2",
   "metadata": {},
   "source": [
    "### Example function\n",
    "\n",
    "\n",
    "```python\n",
    "def double_number(a):\n",
    "    return a*2\n",
    "    \n",
    "```\n",
    "\n",
    "\n",
    "\n"
   ]
  },
  {
   "cell_type": "markdown",
   "id": "7d7cdbfa",
   "metadata": {},
   "source": [
    "## Discussion \n",
    "\n",
    "\n",
    "#### 1. What is a dataframe?\n",
    "A data frame is another name for table\n",
    "\n",
    "#### 2. What information can we obtain about a dataframe?\n",
    "indices, column names, column value types, shape\n",
    "\n",
    "#### 3. How have we interacted with a dataframe?\n",
    "add/drop/rename columns, mask, filter, value_sort\n"
   ]
  },
  {
   "cell_type": "markdown",
   "id": "3f62c7ba",
   "metadata": {},
   "source": [
    "### Practice Exercises\n",
    "\n",
    "1. Load the dataframe 'pokemon' from pydataset\n",
    "\n",
    "2. Obtain the following information:\n",
    "    \n",
    "    - dimensions\n",
    "    - dtypes\n",
    "    - column names\n",
    "    - summary statistics\n",
    "    \n",
    "\n",
    "---\n",
    "\n",
    "#### Highest and lowest values\n",
    "\n",
    "\n",
    "1. What is the highest HP value present?\n",
    "\n",
    "    - Create a function named highest_attack.\n",
    "    - Use the loaded dataframe as an argument. \n",
    "\n",
    "\n",
    "2. Which Pokemon possess(es) the highest HP value?\n",
    "\n",
    " \n",
    "3. How many different types are represented in Type 1?\n",
    "\n",
    "    - Create a function named num_types\n",
    "    - Use the loaded dataframe as an argument\n",
    "    \n",
    "\n",
    "4. Number of Pokemon whose Type 2 is Ghost\n",
    "\n",
    "\n",
    "5. Percentage of Pokemon whose Type 2 is Ghost\n",
    "\n",
    "    - Create a function named percent_ghost\n",
    "     - Use the loaded dataframe as an argument\n",
    "\n",
    "\n",
    "6. Number of Pokemon whose Attack is greater than Defense\n",
    "\n",
    "\n",
    "7. Highest 'Total' value of the Psychic Type 2 \n",
    "\n",
    "\n",
    "8. Lowest speed for Grass or Rock\n",
    "\n",
    "\n",
    "9. Average speed by Generation\n",
    "\n",
    "\n",
    "10. Convert all the column names to lowercase letters\n",
    "\n",
    "\n",
    "11. Rename Sp. Attack to special-attack\n",
    "\n",
    "\n",
    "12. Rename Sp. Def to special-defense\n",
    "\n",
    "    \n",
    "13. Which Pokemon has/have the greatest difference in: \n",
    "\n",
    "    - Attack and Defense points\n",
    "    - Special Attack and Special Defense\n",
    "  \n",
    "\n",
    "14. How many Pokemon are of Type 1 Rock and Type 2 Fairy\n",
    "\n",
    "\n",
    "15. Which Pokemon has appears last alphabetically?\n",
    "\n",
    "    - Create a function named last_pokemon\n",
    "    - Use the loaded dataframe as an argument\n",
    "\n",
    "\n",
    "---\n",
    "\n",
    "\n",
    "Bonus: \n",
    "\n",
    "Create a function which acccepts: \n",
    "\n",
    "- a dataframe\n",
    "- two different Pokemon stats e.g. Attack and Defense\n",
    "\n",
    "\n",
    "The function will:\n",
    "\n",
    "- Calculate difference between the two given Pokemon stats \n",
    "\n",
    "- Create a column which contains the difference of the two given Pokemon stats named stats-diff\n",
    "\n",
    "\n",
    "\n",
    "\n",
    "\n",
    "\n",
    "\n"
   ]
  },
  {
   "cell_type": "markdown",
   "id": "464079db",
   "metadata": {},
   "source": [
    "### Define a function with the parameter a\n",
    "\n",
    "```\n",
    "def double_number(a):\n",
    "    return a*2\n",
    "```"
   ]
  },
  {
   "cell_type": "code",
   "execution_count": 4,
   "id": "f989ac29",
   "metadata": {},
   "outputs": [
    {
     "data": {
      "text/plain": [
       "4"
      ]
     },
     "execution_count": 4,
     "metadata": {},
     "output_type": "execute_result"
    }
   ],
   "source": [
    "# Pass the argument 2 to the function\n",
    "double_number(2)"
   ]
  },
  {
   "cell_type": "code",
   "execution_count": null,
   "id": "b96025fe",
   "metadata": {},
   "outputs": [],
   "source": []
  }
 ],
 "metadata": {
  "kernelspec": {
   "display_name": "Python 3 (ipykernel)",
   "language": "python",
   "name": "python3"
  },
  "language_info": {
   "codemirror_mode": {
    "name": "ipython",
    "version": 3
   },
   "file_extension": ".py",
   "mimetype": "text/x-python",
   "name": "python",
   "nbconvert_exporter": "python",
   "pygments_lexer": "ipython3",
   "version": "3.9.13"
  }
 },
 "nbformat": 4,
 "nbformat_minor": 5
}
